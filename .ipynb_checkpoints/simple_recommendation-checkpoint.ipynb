{
 "cells": [
  {
   "cell_type": "code",
   "execution_count": 49,
   "id": "57bdfac9",
   "metadata": {
    "ExecuteTime": {
     "end_time": "2023-02-06T05:59:41.352933Z",
     "start_time": "2023-02-06T05:59:41.238905Z"
    }
   },
   "outputs": [],
   "source": [
    "import numpy as np\n",
    "import pandas as pd\n",
    "import matplotlib.pyplot as plt\n",
    "import seaborn as sns\n",
    "from scipy import sparse\n",
    "from sklearn.preprocessing import normalize"
   ]
  },
  {
   "cell_type": "code",
   "execution_count": 22,
   "id": "03047fa9",
   "metadata": {
    "ExecuteTime": {
     "end_time": "2023-02-06T05:46:19.051805Z",
     "start_time": "2023-02-06T05:46:18.981787Z"
    }
   },
   "outputs": [],
   "source": [
    "titles = pd.read_csv(\"lastfm_artist_list.csv\")\n",
    "user_scrobbles = pd.read_csv(\"lastfm_user_scrobbles.csv\")"
   ]
  },
  {
   "cell_type": "code",
   "execution_count": 23,
   "id": "4cab2809",
   "metadata": {
    "ExecuteTime": {
     "end_time": "2023-02-06T05:46:23.325870Z",
     "start_time": "2023-02-06T05:46:23.304860Z"
    }
   },
   "outputs": [
    {
     "name": "stdout",
     "output_type": "stream",
     "text": [
      "<class 'pandas.core.frame.DataFrame'>\n",
      "RangeIndex: 17493 entries, 0 to 17492\n",
      "Data columns (total 2 columns):\n",
      " #   Column       Non-Null Count  Dtype \n",
      "---  ------       --------------  ----- \n",
      " 0   artist_id    17493 non-null  int64 \n",
      " 1   artist_name  17493 non-null  object\n",
      "dtypes: int64(1), object(1)\n",
      "memory usage: 273.5+ KB\n"
     ]
    }
   ],
   "source": [
    "titles.info()"
   ]
  },
  {
   "cell_type": "code",
   "execution_count": 24,
   "id": "deb479cb",
   "metadata": {
    "ExecuteTime": {
     "end_time": "2023-02-06T05:46:43.524575Z",
     "start_time": "2023-02-06T05:46:43.503898Z"
    }
   },
   "outputs": [
    {
     "name": "stdout",
     "output_type": "stream",
     "text": [
      "<class 'pandas.core.frame.DataFrame'>\n",
      "RangeIndex: 92792 entries, 0 to 92791\n",
      "Data columns (total 3 columns):\n",
      " #   Column     Non-Null Count  Dtype\n",
      "---  ------     --------------  -----\n",
      " 0   user_id    92792 non-null  int64\n",
      " 1   artist_id  92792 non-null  int64\n",
      " 2   scrobbles  92792 non-null  int64\n",
      "dtypes: int64(3)\n",
      "memory usage: 2.1 MB\n"
     ]
    }
   ],
   "source": [
    "user_scrobbles.info()"
   ]
  },
  {
   "cell_type": "code",
   "execution_count": 25,
   "id": "4ddcefc7",
   "metadata": {
    "ExecuteTime": {
     "end_time": "2023-02-06T05:50:48.266415Z",
     "start_time": "2023-02-06T05:50:48.247412Z"
    }
   },
   "outputs": [
    {
     "data": {
      "text/plain": [
       "5436"
      ]
     },
     "execution_count": 25,
     "metadata": {},
     "output_type": "execute_result"
    }
   ],
   "source": [
    "user_scrobbles.scrobbles.nunique()"
   ]
  },
  {
   "cell_type": "markdown",
   "id": "a3e91a6d",
   "metadata": {},
   "source": [
    "Рассмотрим распределение артистов по пользователям (есть ли в данных пользователи о которых мы слишком мало знаем)"
   ]
  },
  {
   "cell_type": "code",
   "execution_count": 19,
   "id": "f972ad8a",
   "metadata": {
    "ExecuteTime": {
     "end_time": "2023-02-06T04:39:12.833300Z",
     "start_time": "2023-02-06T04:39:12.809294Z"
    }
   },
   "outputs": [
    {
     "data": {
      "text/plain": [
       "artist_id    49.044397\n",
       "scrobbles    49.044397\n",
       "dtype: float64"
      ]
     },
     "execution_count": 19,
     "metadata": {},
     "output_type": "execute_result"
    }
   ],
   "source": [
    "user_scrobbles.groupby('user_id').count().mean()"
   ]
  },
  {
   "cell_type": "code",
   "execution_count": 27,
   "id": "1ebcb9b6",
   "metadata": {
    "ExecuteTime": {
     "end_time": "2023-02-06T05:52:48.191984Z",
     "start_time": "2023-02-06T05:52:48.170981Z"
    }
   },
   "outputs": [],
   "source": [
    "artists_name = titles.artist_name.to_dict()"
   ]
  },
  {
   "cell_type": "markdown",
   "id": "c1dfcdbd",
   "metadata": {
    "ExecuteTime": {
     "end_time": "2023-02-06T05:52:53.173615Z",
     "start_time": "2023-02-06T05:52:53.145609Z"
    }
   },
   "source": [
    "Cоздаем разреженную матрицу, строками которой являются пользователи, а столбцы - артисты."
   ]
  },
  {
   "cell_type": "code",
   "execution_count": 44,
   "id": "c5352968",
   "metadata": {
    "ExecuteTime": {
     "end_time": "2023-02-06T05:57:57.478491Z",
     "start_time": "2023-02-06T05:57:57.460488Z"
    }
   },
   "outputs": [],
   "source": [
    "rows, r_pos = np.unique(user_scrobbles.user_id.values, return_inverse=True)\n",
    "cols, c_pos = np.unique(user_scrobbles.artist_id.values, return_inverse=True)"
   ]
  },
  {
   "cell_type": "code",
   "execution_count": 51,
   "id": "61238467",
   "metadata": {
    "ExecuteTime": {
     "end_time": "2023-02-06T06:00:42.739320Z",
     "start_time": "2023-02-06T06:00:42.709893Z"
    }
   },
   "outputs": [],
   "source": [
    "iter_sparse = sparse.csr_matrix((user_scrobbles.scrobbles, (r_pos, c_pos)))"
   ]
  },
  {
   "cell_type": "code",
   "execution_count": 53,
   "id": "f030ed44",
   "metadata": {
    "ExecuteTime": {
     "end_time": "2023-02-06T06:02:22.229268Z",
     "start_time": "2023-02-06T06:02:22.213261Z"
    }
   },
   "outputs": [
    {
     "data": {
      "text/plain": [
       "<1892x17493 sparse matrix of type '<class 'numpy.int64'>'\n",
       "\twith 92723 stored elements in Compressed Sparse Row format>"
      ]
     },
     "execution_count": 53,
     "metadata": {},
     "output_type": "execute_result"
    }
   ],
   "source": [
    "iter_sparse"
   ]
  },
  {
   "cell_type": "markdown",
   "id": "ed55cb35",
   "metadata": {},
   "source": [
    "Проведем нормировку значений в матрице и построим матрицу похожести."
   ]
  },
  {
   "cell_type": "code",
   "execution_count": 95,
   "id": "06a68efc",
   "metadata": {
    "ExecuteTime": {
     "end_time": "2023-02-06T06:18:56.973232Z",
     "start_time": "2023-02-06T06:18:56.959230Z"
    }
   },
   "outputs": [],
   "source": [
    "Pui = normalize(iter_sparse, norm='l2', axis=1)"
   ]
  },
  {
   "cell_type": "code",
   "execution_count": 98,
   "id": "76bcc8ff",
   "metadata": {
    "ExecuteTime": {
     "end_time": "2023-02-06T06:19:02.525748Z",
     "start_time": "2023-02-06T06:19:02.459734Z"
    }
   },
   "outputs": [],
   "source": [
    "sim = Pui.T * Pui"
   ]
  },
  {
   "cell_type": "code",
   "execution_count": 117,
   "id": "f2553238",
   "metadata": {
    "ExecuteTime": {
     "end_time": "2023-02-06T06:22:26.312122Z",
     "start_time": "2023-02-06T06:22:23.055379Z"
    }
   },
   "outputs": [
    {
     "data": {
      "text/plain": [
       "matrix([[0.00120405, 0.        , 0.        , ..., 0.        , 0.        ,\n",
       "         0.        ],\n",
       "        [0.        , 0.00258841, 0.        , ..., 0.        , 0.        ,\n",
       "         0.        ],\n",
       "        [0.        , 0.        , 0.00383689, ..., 0.        , 0.        ,\n",
       "         0.        ],\n",
       "        ...,\n",
       "        [0.        , 0.        , 0.        , ..., 0.0228355 , 0.        ,\n",
       "         0.        ],\n",
       "        [0.        , 0.        , 0.        , ..., 0.        , 0.00827076,\n",
       "         0.        ],\n",
       "        [0.        , 0.        , 0.        , ..., 0.        , 0.        ,\n",
       "         0.0010429 ]])"
      ]
     },
     "execution_count": 117,
     "metadata": {},
     "output_type": "execute_result"
    }
   ],
   "source": [
    "sim.todense()"
   ]
  },
  {
   "cell_type": "code",
   "execution_count": 118,
   "id": "57203b27",
   "metadata": {
    "ExecuteTime": {
     "end_time": "2023-02-06T06:23:04.407532Z",
     "start_time": "2023-02-06T06:23:04.326137Z"
    }
   },
   "outputs": [
    {
     "data": {
      "text/plain": [
       "['The Doors',\n",
       " 'Pink Floyd',\n",
       " 'Joy Division',\n",
       " 'Depeche Mode',\n",
       " 'Marilyn Manson',\n",
       " 'Paramore',\n",
       " 'System Of A Down',\n",
       " 'Arctic Monkeys',\n",
       " 'Pearl Jam',\n",
       " 'Green Day',\n",
       " 'Foo Fighters',\n",
       " 'Muse',\n",
       " 'Alice In Chains',\n",
       " 'Red Hot Chili Peppers',\n",
       " 'Placebo',\n",
       " 'The Smashing Pumpkins',\n",
       " 'Metallica',\n",
       " 'Radiohead',\n",
       " 'The Beatles',\n",
       " 'Nirvana']"
      ]
     },
     "execution_count": 118,
     "metadata": {},
     "output_type": "execute_result"
    }
   ],
   "source": [
    "[artists_name[i] for i in sim[10734].toarray().argsort()[0][-20:]]"
   ]
  },
  {
   "cell_type": "markdown",
   "id": "a5ed62d5",
   "metadata": {},
   "source": [
    "Получили item-item рекоммендации."
   ]
  },
  {
   "cell_type": "markdown",
   "id": "ebe54927",
   "metadata": {},
   "source": [
    "Теперь user-item рекоммендации."
   ]
  },
  {
   "cell_type": "code",
   "execution_count": 130,
   "id": "04f9a15a",
   "metadata": {
    "ExecuteTime": {
     "end_time": "2023-02-06T06:31:28.129531Z",
     "start_time": "2023-02-06T06:31:28.112523Z"
    }
   },
   "outputs": [],
   "source": [
    "iter_sparse_T = iter_sparse.T"
   ]
  },
  {
   "cell_type": "code",
   "execution_count": 132,
   "id": "e0120aa0",
   "metadata": {
    "ExecuteTime": {
     "end_time": "2023-02-06T06:31:49.302088Z",
     "start_time": "2023-02-06T06:31:49.108660Z"
    }
   },
   "outputs": [],
   "source": [
    "Piu = normalize(iter_sparse_T, norm='l2', axis=1)"
   ]
  },
  {
   "cell_type": "code",
   "execution_count": 199,
   "id": "8a091b62",
   "metadata": {
    "ExecuteTime": {
     "end_time": "2023-02-06T06:50:09.648347Z",
     "start_time": "2023-02-06T06:50:08.854624Z"
    }
   },
   "outputs": [],
   "source": [
    "fit = Pui @ Piu @ Pui"
   ]
  },
  {
   "cell_type": "code",
   "execution_count": 134,
   "id": "07b39ee7",
   "metadata": {
    "ExecuteTime": {
     "end_time": "2023-02-06T06:32:09.400628Z",
     "start_time": "2023-02-06T06:32:09.394626Z"
    }
   },
   "outputs": [
    {
     "data": {
      "text/plain": [
       "<1892x17493 sparse matrix of type '<class 'numpy.float64'>'\n",
       "\twith 18946119 stored elements in Compressed Sparse Row format>"
      ]
     },
     "execution_count": 134,
     "metadata": {},
     "output_type": "execute_result"
    }
   ],
   "source": [
    "fit"
   ]
  },
  {
   "cell_type": "markdown",
   "id": "e298d135",
   "metadata": {},
   "source": [
    "Что слушал пользователь."
   ]
  },
  {
   "cell_type": "code",
   "execution_count": 194,
   "id": "70fc6c44",
   "metadata": {
    "ExecuteTime": {
     "end_time": "2023-02-06T06:48:51.355910Z",
     "start_time": "2023-02-06T06:48:51.343907Z"
    }
   },
   "outputs": [],
   "source": [
    "init_set = [artists_name[i] for i in np.nonzero(iter_sparse[520])[1]]"
   ]
  },
  {
   "cell_type": "markdown",
   "id": "12acf242",
   "metadata": {},
   "source": [
    "Что порекомендовали."
   ]
  },
  {
   "cell_type": "code",
   "execution_count": 200,
   "id": "1fbe6b51",
   "metadata": {
    "ExecuteTime": {
     "end_time": "2023-02-06T06:50:12.708067Z",
     "start_time": "2023-02-06T06:50:12.692062Z"
    }
   },
   "outputs": [],
   "source": [
    "pred_set = [artists_name[i] for i in fit[520].toarray().argsort()[0][-70:]]"
   ]
  },
  {
   "cell_type": "code",
   "execution_count": 201,
   "id": "7b5dadcf",
   "metadata": {
    "ExecuteTime": {
     "end_time": "2023-02-06T06:50:14.244433Z",
     "start_time": "2023-02-06T06:50:14.231429Z"
    }
   },
   "outputs": [
    {
     "data": {
      "text/plain": [
       "{'30 Seconds To Mars',\n",
       " 'Britney Spears',\n",
       " 'Christina Aguilera',\n",
       " 'Coldplay',\n",
       " 'David Bowie',\n",
       " 'Duran Duran',\n",
       " 'Evanescence',\n",
       " 'Flyleaf',\n",
       " 'Him',\n",
       " 'Iron Maiden',\n",
       " 'Joy Division',\n",
       " 'Kings Of Leon',\n",
       " 'Lady Gaga',\n",
       " 'Linkin Park',\n",
       " 'Madonna',\n",
       " 'Marilyn Manson',\n",
       " 'Metallica',\n",
       " 'Muse',\n",
       " 'Nightwish',\n",
       " 'Nine Inch Nails',\n",
       " 'Oasis',\n",
       " 'Opeth',\n",
       " 'Pink Floyd',\n",
       " 'Porcupine Tree',\n",
       " 'Radiohead',\n",
       " 'Rammstein',\n",
       " 'System Of A Down',\n",
       " 'The Beatles',\n",
       " 'The Killers',\n",
       " 'The Smashing Pumpkins',\n",
       " 'The Smiths',\n",
       " 'U2'}"
      ]
     },
     "execution_count": 201,
     "metadata": {},
     "output_type": "execute_result"
    }
   ],
   "source": [
    "set(pred_set).difference(initial_set)"
   ]
  }
 ],
 "metadata": {
  "kernelspec": {
   "display_name": "Python 3 (ipykernel)",
   "language": "python",
   "name": "python3"
  },
  "language_info": {
   "codemirror_mode": {
    "name": "ipython",
    "version": 3
   },
   "file_extension": ".py",
   "mimetype": "text/x-python",
   "name": "python",
   "nbconvert_exporter": "python",
   "pygments_lexer": "ipython3",
   "version": "3.8.6"
  },
  "nbTranslate": {
   "displayLangs": [
    "*"
   ],
   "hotkey": "alt-t",
   "langInMainMenu": true,
   "sourceLang": "en",
   "targetLang": "fr",
   "useGoogleTranslate": true
  },
  "varInspector": {
   "cols": {
    "lenName": 16,
    "lenType": 16,
    "lenVar": 40
   },
   "kernels_config": {
    "python": {
     "delete_cmd_postfix": "",
     "delete_cmd_prefix": "del ",
     "library": "var_list.py",
     "varRefreshCmd": "print(var_dic_list())"
    },
    "r": {
     "delete_cmd_postfix": ") ",
     "delete_cmd_prefix": "rm(",
     "library": "var_list.r",
     "varRefreshCmd": "cat(var_dic_list()) "
    }
   },
   "types_to_exclude": [
    "module",
    "function",
    "builtin_function_or_method",
    "instance",
    "_Feature"
   ],
   "window_display": false
  }
 },
 "nbformat": 4,
 "nbformat_minor": 5
}
